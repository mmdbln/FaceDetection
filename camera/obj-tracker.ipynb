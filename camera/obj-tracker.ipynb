{
 "cells": [
  {
   "cell_type": "code",
   "execution_count": 1,
   "metadata": {},
   "outputs": [
    {
     "name": "stdout",
     "output_type": "stream",
     "text": [
      "Defaulting to user installation because normal site-packages is not writeable\n",
      "Requirement already satisfied: deep-sort-realtime in ./.local/lib/python3.10/site-packages (1.3.2)\n",
      "Requirement already satisfied: numpy in ./.local/lib/python3.10/site-packages (from deep-sort-realtime) (1.24.3)\n",
      "Requirement already satisfied: scipy in ./.local/lib/python3.10/site-packages (from deep-sort-realtime) (1.9.3)\n",
      "Requirement already satisfied: opencv-python in ./.local/lib/python3.10/site-packages (from deep-sort-realtime) (4.9.0.80)\n",
      "\u001b[33mWARNING: There was an error checking the latest version of pip.\u001b[0m\u001b[33m\n",
      "\u001b[0m"
     ]
    }
   ],
   "source": [
    "!pip install deep-sort-realtime"
   ]
  },
  {
   "cell_type": "code",
   "execution_count": 2,
   "metadata": {},
   "outputs": [],
   "source": [
    "import os\n",
    "os.environ[\"KMP_DUPLICATE_LIB_OK\"]=\"TRUE\""
   ]
  },
  {
   "cell_type": "code",
   "execution_count": 3,
   "metadata": {},
   "outputs": [],
   "source": [
    "\n",
    "from deep_sort_realtime.deepsort_tracker import DeepSort\n",
    "\n",
    "#Initialise the object tracker class\n",
    "object_tracker = DeepSort()"
   ]
  },
  {
   "cell_type": "code",
   "execution_count": 10,
   "metadata": {},
   "outputs": [],
   "source": [
    "import cv2\n",
    "import numpy as np\n",
    "from deep_sort_realtime.deepsort_tracker import DeepSort\n",
    "\n",
    "# Load pre-trained face detection model\n",
    "face_cascade = cv2.CascadeClassifier(cv2.data.haarcascades + 'haarcascade_frontalface_default.xml')\n",
    "\n",
    "# Initialize DeepSort tracker\n",
    "deepsort = DeepSort()\n",
    "\n",
    "# Start capturing video from camera\n",
    "cap = cv2.VideoCapture(0)  # 0 is the default camera\n",
    "\n",
    "# Initialize variables for tracking\n",
    "trackers = []\n",
    "\n",
    "while True:\n",
    "    # Capture frame-by-frame\n",
    "    ret, frame = cap.read()\n",
    "    \n",
    "    # Convert frame to grayscale for face detection\n",
    "    gray = cv2.cvtColor(frame, cv2.COLOR_BGR2GRAY)\n",
    "    \n",
    "    # Detect faces\n",
    "    faces = face_cascade.detectMultiScale(gray, scaleFactor=1.1, minNeighbors=5, minSize=(30, 30))\n",
    "    \n",
    "    # Convert detected faces to DeepSort format\n",
    "    detections = []\n",
    "    for (x, y, w, h) in faces:\n",
    "        detections.append([x, y, x+w, y+h, 1.0])  # Appending confidence score as 1.0\n",
    "    \n",
    "    # Initialize tracker for new detections\n",
    "    for detection in detections:\n",
    "        tracker = {\n",
    "            'bbox': detection[:4],\n",
    "            'confidence': detection[4]\n",
    "        }\n",
    "        trackers.append(tracker)\n",
    "    \n",
    "    # Update tracker for existing detections\n",
    "    for tracker in trackers:\n",
    "        bbox = tracker['bbox']\n",
    "        cv2.rectangle(frame, (int(bbox[0]), int(bbox[1])), (int(bbox[2]), int(bbox[3])), (0, 255, 0), 2)\n",
    "    \n",
    "    # Display the resulting frame\n",
    "    cv2.imshow('Face Detection and Tracking', frame)\n",
    "    \n",
    "    # Break the loop when 'q' is pressed\n",
    "    if cv2.waitKey(1) & 0xFF == ord('q'):\n",
    "        break\n",
    "\n",
    "# Release the capture\n",
    "cap.release()\n",
    "cv2.destroyAllWindows()\n"
   ]
  },
  {
   "cell_type": "code",
   "execution_count": null,
   "metadata": {},
   "outputs": [],
   "source": []
  },
  {
   "cell_type": "code",
   "execution_count": null,
   "metadata": {},
   "outputs": [],
   "source": []
  }
 ],
 "metadata": {
  "kernelspec": {
   "display_name": "Python 3",
   "language": "python",
   "name": "python3"
  },
  "language_info": {
   "codemirror_mode": {
    "name": "ipython",
    "version": 3
   },
   "file_extension": ".py",
   "mimetype": "text/x-python",
   "name": "python",
   "nbconvert_exporter": "python",
   "pygments_lexer": "ipython3",
   "version": "3.10.12"
  }
 },
 "nbformat": 4,
 "nbformat_minor": 2
}
